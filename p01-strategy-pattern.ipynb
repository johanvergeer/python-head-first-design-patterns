{
 "cells": [
  {
   "cell_type": "code",
   "execution_count": 14,
   "metadata": {},
   "outputs": [],
   "source": [
    "# class Duck:\n",
    "#     def quack(self):\n",
    "#         print('quack')\n",
    "    \n",
    "#     def swim(self): \n",
    "#         print('swimming')\n",
    "    \n",
    "#     def display(self):\n",
    "#         pass\n",
    "    \n",
    "#     def fly(self):\n",
    "#         print('flying')\n",
    "    \n",
    "# class MallardDuck(Duck):\n",
    "#     def display(self):\n",
    "#         print('looks like a Mallard')\n",
    "        \n",
    "# class RedHeadDuck(Duck):\n",
    "#     def display(self):\n",
    "#         print('looks like a RedHead')\n",
    "        \n",
    "# class RubberDuck(Duck):\n",
    "#     def display(self):\n",
    "#         print('looks like a Rubber Duck')\n",
    "        \n",
    "#     def quack(self):\n",
    "#         print('Squeak')"
   ]
  },
  {
   "cell_type": "code",
   "execution_count": 15,
   "metadata": {},
   "outputs": [],
   "source": [
    "# class Duck:    \n",
    "#     def swim(self): \n",
    "#         print('swimming')\n",
    "    \n",
    "#     def display(self):\n",
    "#         pass\n",
    "        \n",
    "        \n",
    "# class Flyable:\n",
    "#     def fly(self):\n",
    "#         print('flying')\n",
    "        \n",
    "        \n",
    "# class Quackable:\n",
    "#     def quack(self):\n",
    "#         print('quack')\n",
    "    \n",
    "    \n",
    "# class MallardDuck(Duck, Flyable, Quackable):\n",
    "#     def display(self):\n",
    "#         print('looks like a Mallard')\n",
    "        \n",
    "# class RedHeadDuck(Duck, Flyable, Quackable):\n",
    "#     def display(self):\n",
    "#         print('looks like a RedHead')\n",
    "        \n",
    "# class RubberDuck(Duck, Quackable):\n",
    "#     def display(self):\n",
    "#         print('looks like a Rubber Duck')\n",
    "        \n",
    "#     def quack(self):\n",
    "#         print('Squeak')"
   ]
  },
  {
   "cell_type": "code",
   "execution_count": 1,
   "metadata": {},
   "outputs": [],
   "source": [
    "from abc import ABC, abstractmethod\n",
    "\n",
    "class FlyBehavior(ABC):\n",
    "    \n",
    "    @abstractmethod\n",
    "    def fly(self):\n",
    "        pass\n",
    "    \n",
    "class FlyWithWings(FlyBehavior):\n",
    "    def fly(self):\n",
    "        print('Flying with my wings')\n",
    "        \n",
    "class FlyNoWay(FlyBehavior):\n",
    "    def fly(self):\n",
    "        print('I can\\'t fly')\n",
    "        \n",
    "class FlyRocketPowered(FlyBehavior):\n",
    "    def fly(self):\n",
    "        print('Flying with a Rocket! 😀')"
   ]
  },
  {
   "cell_type": "code",
   "execution_count": 2,
   "metadata": {},
   "outputs": [
    {
     "name": "stdout",
     "output_type": "stream",
     "text": [
      "I can't fly\n"
     ]
    }
   ],
   "source": [
    "FlyNoWay().fly()"
   ]
  },
  {
   "cell_type": "code",
   "execution_count": 3,
   "metadata": {},
   "outputs": [],
   "source": [
    "class QuackBehavior(ABC):\n",
    "    @abstractmethod\n",
    "    def quack(self):\n",
    "        pass\n",
    "    \n",
    "class Quack(QuackBehavior):\n",
    "    def quack(self):\n",
    "        print('quack')\n",
    "        \n",
    "class Squeak(QuackBehavior):\n",
    "    def quack(self):\n",
    "        print('squeak')\n",
    "        \n",
    "class MuteQuack(QuackBehavior):\n",
    "    def quack(self):\n",
    "        print('I can\\'t quack')"
   ]
  },
  {
   "cell_type": "code",
   "execution_count": 4,
   "metadata": {},
   "outputs": [],
   "source": [
    "class Duck:\n",
    "    def __init__(self, fly_hehavior, quack_behavior):\n",
    "        self._fly_behavior = fly_hehavior\n",
    "        self._quack_behavior = quack_behavior\n",
    "    \n",
    "    def perform_quack(self):\n",
    "        self._quack_behavior.quack()\n",
    "    \n",
    "    def swim(self): \n",
    "        print('swimming')\n",
    "    \n",
    "    def display(self):\n",
    "        pass\n",
    "    \n",
    "    def perform_fly(self):\n",
    "        self._fly_behavior.fly()\n",
    "        \n",
    "        "
   ]
  },
  {
   "cell_type": "code",
   "execution_count": 6,
   "metadata": {},
   "outputs": [
    {
     "name": "stdout",
     "output_type": "stream",
     "text": [
      "Flying with a Rocket! 😀\n"
     ]
    }
   ],
   "source": [
    "Duck(FlyRocketPowered(), Quack()).perform_fly()"
   ]
  },
  {
   "cell_type": "code",
   "execution_count": 9,
   "metadata": {},
   "outputs": [
    {
     "name": "stdout",
     "output_type": "stream",
     "text": [
      "passed in quack\n"
     ]
    }
   ],
   "source": [
    "def quack(phrase):\n",
    "    print(phrase)\n",
    "    \n",
    "class Duck:\n",
    "    def __init__(self, fly_hehavior, quack_behavior):\n",
    "        self._fly_behavior = fly_hehavior\n",
    "        self._quack_behavior = quack_behavior\n",
    "    \n",
    "    def perform_quack(self):\n",
    "        self._quack_behavior('passed in quack')\n",
    "    \n",
    "    def swim(self): \n",
    "        print('swimming')\n",
    "    \n",
    "    def display(self):\n",
    "        pass\n",
    "    \n",
    "    def perform_fly(self):\n",
    "        self._fly_behavior.fly()\n",
    "        \n",
    "Duck(FlyRocketPowered(), quack).perform_quack()"
   ]
  },
  {
   "cell_type": "code",
   "execution_count": null,
   "metadata": {
    "pycharm": {
     "name": "#%%\n"
    }
   },
   "outputs": [],
   "source": []
  }
 ],
 "metadata": {
  "kernelspec": {
   "display_name": "Python 3",
   "language": "python",
   "name": "python3"
  },
  "language_info": {
   "codemirror_mode": {
    "name": "ipython",
    "version": 3
   },
   "file_extension": ".py",
   "mimetype": "text/x-python",
   "name": "python",
   "nbconvert_exporter": "python",
   "pygments_lexer": "ipython3",
   "version": "3.7.3"
  },
  "pycharm": {
   "stem_cell": {
    "cell_type": "raw",
    "source": [],
    "metadata": {
     "collapsed": false
    }
   }
  }
 },
 "nbformat": 4,
 "nbformat_minor": 4
}